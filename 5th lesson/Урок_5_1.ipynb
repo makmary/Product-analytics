{
 "cells": [
  {
   "cell_type": "markdown",
   "metadata": {},
   "source": [
    "Начнём с импортирования библиотек"
   ]
  },
  {
   "cell_type": "code",
   "execution_count": null,
   "metadata": {},
   "outputs": [],
   "source": [
    "import pandas as pd\n",
    "import numpy as np\n",
    "import seaborn as sns\n",
    "import matplotlib.pyplot as plt\n",
    "import plotly.graph_objs as go\n",
    "from plotly.offline import download_plotlyjs, init_notebook_mode, plot, iplot\n",
    "from plotly import tools"
   ]
  },
  {
   "cell_type": "markdown",
   "metadata": {},
   "source": [
    "прописываем параметры подключения"
   ]
  },
  {
   "cell_type": "code",
   "execution_count": null,
   "metadata": {},
   "outputs": [],
   "source": [
    "import pymysql.cursors  \n",
    " \n",
    "# Подключиться к базе данных.\n",
    "connection = pymysql.connect(host='185.241.192.198',\n",
    "                             user='user',\n",
    "                             password='5QnDCLfgsVXfmdUX',                             \n",
    "                             db='soccer',\n",
    "                             charset='utf8mb4',\n",
    "                             cursorclass=pymysql.cursors.DictCursor)"
   ]
  },
  {
   "cell_type": "markdown",
   "metadata": {},
   "source": [
    "Пишем наш первый запрос и проверяем, смогли ли мы подключиться"
   ]
  },
  {
   "cell_type": "code",
   "execution_count": null,
   "metadata": {},
   "outputs": [],
   "source": [
    "with connection.cursor() as cursor:\n",
    "       \n",
    "        # SQL \n",
    "        sql = \"SELECT * FROM country limit 5 \"\n",
    "         \n",
    "        # Выполнить команду запроса (Execute Query).\n",
    "        cursor.execute(sql)\n",
    "         \n",
    "        print (\"cursor.description: \", cursor.description)\n",
    " \n",
    "        #print()"
   ]
  },
  {
   "cell_type": "code",
   "execution_count": null,
   "metadata": {},
   "outputs": [],
   "source": [
    "df = pd.read_sql('SELECT player.player_api_id, player.player_name,avg(p_a.overall_rating) as avg_r,row_number() over( order by avg(p_a.overall_rating) desc) as rating FROM player JOIN player_attributes as p_a ON player.player_api_id =  p_a.player_api_id GROUP BY player.player_api_id, player.player_name', con= connection)"
   ]
  },
  {
   "cell_type": "code",
   "execution_count": null,
   "metadata": {},
   "outputs": [],
   "source": [
    "df"
   ]
  },
  {
   "cell_type": "code",
   "execution_count": null,
   "metadata": {},
   "outputs": [],
   "source": [
    "data = pd.read_csv(\"C:/Users/s.voronkov/Downloads/student-mat.csv\")\n",
    "data.head()"
   ]
  },
  {
   "cell_type": "markdown",
   "metadata": {},
   "source": [
    "Совершаем первые простейшие итерации\n",
    "Начнём с подсчёта строк и столбцов с помощью команды shape"
   ]
  },
  {
   "cell_type": "code",
   "execution_count": null,
   "metadata": {},
   "outputs": [],
   "source": [
    "data.shape"
   ]
  },
  {
   "cell_type": "markdown",
   "metadata": {},
   "source": [
    "проверим, есть ли пропуски в данных:"
   ]
  },
  {
   "cell_type": "code",
   "execution_count": null,
   "metadata": {},
   "outputs": [],
   "source": [
    "data.info()"
   ]
  },
  {
   "cell_type": "markdown",
   "metadata": {},
   "source": [
    "Пропуски - частое явление при анализе данных, они часто препятствуют совершению некоторых методов классификации или построению графиков. Есть несколько методов работы с ними:\n",
    "1. Замена на модальное значиение\n",
    "2. Замена на среднее значение\n",
    "3. Замена на медианное значение\n",
    "4. Удаление из датафрейма"
   ]
  },
  {
   "cell_type": "markdown",
   "metadata": {},
   "source": [
    "Начнем с поверхностного исследования наших данных, чтобы опробовать базовые возможности pandas + выделить интересности, которые может детальнее раскопать далее. Посмотрим, сколько среди наших студентов девушек и парней"
   ]
  },
  {
   "cell_type": "code",
   "execution_count": null,
   "metadata": {},
   "outputs": [],
   "source": [
    "data['sex'].value_counts()"
   ]
  },
  {
   "cell_type": "code",
   "execution_count": null,
   "metadata": {},
   "outputs": [],
   "source": [
    "data.groupby('sex')['sex'].count()"
   ]
  },
  {
   "cell_type": "markdown",
   "metadata": {},
   "source": [
    "df.groupby() - в целом работает как и GROUPBY() в SQL. Позволяет сгруппировать наболр данных по полю или набору полей и получить соответствующие агрегаты"
   ]
  },
  {
   "cell_type": "code",
   "execution_count": null,
   "metadata": {},
   "outputs": [],
   "source": [
    "data.groupby(['sex','school'])['age'].mean().round()"
   ]
  },
  {
   "cell_type": "code",
   "execution_count": null,
   "metadata": {},
   "outputs": [],
   "source": [
    "data.describe()"
   ]
  },
  {
   "cell_type": "markdown",
   "metadata": {},
   "source": [
    "Отделим числовые признаки от нечисловых:"
   ]
  },
  {
   "cell_type": "code",
   "execution_count": null,
   "metadata": {},
   "outputs": [],
   "source": [
    "categorical_columns = [c for c in data.columns if data[c].dtype.name == 'object']\n",
    "numerical_columns   = [c for c in data.columns if data[c].dtype.name != 'object']\n",
    "print ('Категориальные признаки: ',categorical_columns)\n",
    "print ('числовые признаки: ',numerical_columns)"
   ]
  },
  {
   "cell_type": "markdown",
   "metadata": {},
   "source": [
    "Построим корреляционную матрицу Пирсона:"
   ]
  },
  {
   "cell_type": "code",
   "execution_count": null,
   "metadata": {},
   "outputs": [],
   "source": [
    "cols = data[['age','studytime','Dalc','Walc','G3','absences','Medu','Fedu','health','famrel']]\n",
    "plt.figure(figsize=(20,10))\n",
    "c= cols.corr()\n",
    "sns.heatmap(c,cmap=\"BrBG\",annot=True)"
   ]
  },
  {
   "cell_type": "code",
   "execution_count": null,
   "metadata": {
    "scrolled": false
   },
   "outputs": [],
   "source": [
    "plt.figure(figsize=(20,10))\n",
    "c= data[numerical_columns].corr()\n",
    "sns.heatmap(c,cmap=\"BrBG\",annot=True)"
   ]
  },
  {
   "cell_type": "markdown",
   "metadata": {},
   "source": [
    "Выделим интересующие нас векторы, не стоит брать много за раз. Лучше концентрироваться на одной детали за раз. Например, начнем с успеваемости студентов и попробуем выделить факторы, влияющие на нее положительно или негативно.\n",
    "\n",
    "Успеваемость и время, проведенное за учебой\n",
    "\n",
    "Weekly study time (numeric: 1 - <2 hours, 2 - 2 to 5 hours, 3 - 5 to 10 hours, or 4 - >10 hours). Сделаем почитабельнее\n",
    "Сгруппируем время, которое студенты посвящают обучению с помощью нового столбца:"
   ]
  },
  {
   "cell_type": "code",
   "execution_count": null,
   "metadata": {},
   "outputs": [],
   "source": [
    "data['study_type'] = np.where(data['studytime'] == 1,'<2 hours',\n",
    "                             np.where(data['studytime'] == 2,'2-5h',\n",
    "                                     np.where(data['studytime'] == 3,'5-10h','> 10h')))"
   ]
  },
  {
   "cell_type": "code",
   "execution_count": null,
   "metadata": {},
   "outputs": [],
   "source": [
    "#Сгруппируйте объекты датафрейма по новому столбцу. Сколько времени чаще всего посвящают обучению студенты?"
   ]
  },
  {
   "cell_type": "code",
   "execution_count": null,
   "metadata": {},
   "outputs": [],
   "source": [
    "sns.catplot(x=\"study_type\", kind=\"count\",palette=\"magma\", data=data, height = 6)"
   ]
  },
  {
   "cell_type": "code",
   "execution_count": null,
   "metadata": {},
   "outputs": [],
   "source": [
    "g = sns.FacetGrid(data, row=\"study_type\",\n",
    "                  height=1.7, aspect=5)\n",
    "g.map(sns.distplot, \"G3\", hist=True, rug=True, color = 'blue')"
   ]
  },
  {
   "cell_type": "code",
   "execution_count": null,
   "metadata": {},
   "outputs": [],
   "source": [
    "data['G3'].agg({'min','max','mean','median'})"
   ]
  },
  {
   "cell_type": "code",
   "execution_count": null,
   "metadata": {},
   "outputs": [],
   "source": [
    "#Посчитайте те же показатели для оценки первого и второго семестра"
   ]
  },
  {
   "cell_type": "markdown",
   "metadata": {},
   "source": [
    "Box plot (ящик с усами) - показывает распределение, выделяя медиану, нижний и верхний квартили, минимальное и максимальное значение выборки и выбросы."
   ]
  },
  {
   "cell_type": "code",
   "execution_count": null,
   "metadata": {},
   "outputs": [],
   "source": [
    "plt.figure(figsize=(18,7))\n",
    "sns.boxplot(y=\"study_type\", x=\"G3\", data = data , orient=\"h\", palette = 'Set2')"
   ]
  },
  {
   "cell_type": "code",
   "execution_count": null,
   "metadata": {},
   "outputs": [],
   "source": [
    "#Нарисуйте ящик с усами по оценкам за второй семестр"
   ]
  },
  {
   "cell_type": "code",
   "execution_count": null,
   "metadata": {},
   "outputs": [],
   "source": [
    "#пропуски и суммарный балл\n",
    "g = sns.FacetGrid(data, palette='magma', height=5)\n",
    "g.map(plt.scatter, \"absences\", \"G3\", s=50, alpha=.7, linewidth=.5, edgecolor=\"white\")\n",
    "g.add_legend()"
   ]
  },
  {
   "cell_type": "markdown",
   "metadata": {},
   "source": [
    "Получим немного общей инфы в разрезе успеваемости"
   ]
  },
  {
   "cell_type": "code",
   "execution_count": null,
   "metadata": {},
   "outputs": [],
   "source": [
    "data.groupby(['study_type','sex','school'])['G3','absences'].agg({'min','max','median'})"
   ]
  },
  {
   "cell_type": "code",
   "execution_count": null,
   "metadata": {},
   "outputs": [],
   "source": [
    "data['school'].value_counts()"
   ]
  },
  {
   "cell_type": "code",
   "execution_count": null,
   "metadata": {},
   "outputs": [],
   "source": [
    "g = sns.FacetGrid(data, row=\"school\",\n",
    "                  height=1.7, aspect=5)\n",
    "g.map(sns.distplot, \"G3\", hist=True, rug=True, color = 'pink')"
   ]
  },
  {
   "cell_type": "code",
   "execution_count": null,
   "metadata": {},
   "outputs": [],
   "source": [
    "data.groupby('school')['G3'].quantile([.25,.50,.75,.95])"
   ]
  },
  {
   "cell_type": "markdown",
   "metadata": {},
   "source": [
    "Перейдем к более интересным вещам) Посмотрим как на успеваемость влияют употребление алкоголя, отношения, здоровье, ситуция в семье, место жительства и так далее"
   ]
  },
  {
   "cell_type": "raw",
   "metadata": {},
   "source": [
    "Создайте столбец Weekends_alco, где:\n",
    "    Walc < 3 - 'low'\n",
    "    Walc == 3 - 'medium'\n",
    "    прочее - 'high'"
   ]
  },
  {
   "cell_type": "code",
   "execution_count": null,
   "metadata": {},
   "outputs": [],
   "source": [
    "#Создайте здесь"
   ]
  },
  {
   "cell_type": "raw",
   "metadata": {},
   "source": [
    "Создайте столбец Week_alco, где:\n",
    "    Dalc < 3 - 'low'\n",
    "    Dalc == 3 - 'medium'\n",
    "    прочее - 'high'"
   ]
  },
  {
   "cell_type": "code",
   "execution_count": null,
   "metadata": {},
   "outputs": [],
   "source": [
    "#Создайте здесь"
   ]
  },
  {
   "cell_type": "code",
   "execution_count": null,
   "metadata": {},
   "outputs": [],
   "source": [
    "labels = data[\"Weekends_alco\"].unique().tolist()\n",
    "amount = data[\"Weekends_alco\"].value_counts().tolist()\n",
    "\n",
    "colors = [\"pink\", \"cyan\", \"green\", \"yellow\"]\n",
    "\n",
    "trace = go.Pie(labels=labels, values=amount,\n",
    "               hoverinfo='label+percent', textinfo='value', \n",
    "               textfont=dict(size=20),\n",
    "               marker=dict(colors=colors, \n",
    "                           line=dict(color='#000000', width=2)))\n",
    "dt = [trace]\n",
    "layout = go.Layout(title=\"Weekends alco\")\n",
    "\n",
    "fig = go.Figure(data=dt, layout=layout)\n",
    "iplot(fig, filename='pie')"
   ]
  },
  {
   "cell_type": "code",
   "execution_count": null,
   "metadata": {},
   "outputs": [],
   "source": [
    "labels = data[\"Week_alco\"].unique().tolist()\n",
    "amount = data[\"Week_alco\"].value_counts().tolist()\n",
    "\n",
    "colors = [\"cyan\", \"pink\", \"white\", \"yellow\"]\n",
    "\n",
    "trace = go.Pie(labels=labels, values=amount,\n",
    "               hoverinfo='label+percent', textinfo='value', \n",
    "               textfont=dict(size=20),\n",
    "               marker=dict(colors=colors, \n",
    "                           line=dict(color='#000000', width=2)))\n",
    "dt = [trace]\n",
    "layout = go.Layout(title=\"Week alco\")\n",
    "\n",
    "fig = go.Figure(data=dt, layout=layout)\n",
    "iplot(fig, filename='pie')"
   ]
  },
  {
   "cell_type": "markdown",
   "metadata": {},
   "source": [
    "Как на успеваемости и пропусках сказывается любовь к выпивке на выходных?)"
   ]
  },
  {
   "cell_type": "code",
   "execution_count": null,
   "metadata": {},
   "outputs": [],
   "source": [
    "data.groupby('Weekends_alco')['G3','absences'].quantile([.25,.50,.90])"
   ]
  },
  {
   "cell_type": "code",
   "execution_count": null,
   "metadata": {},
   "outputs": [],
   "source": [
    "g = sns.FacetGrid(data, row=\"Weekends_alco\",\n",
    "                  height=1.7, aspect=5)\n",
    "g.map(sns.distplot, \"G3\", hist=True, rug=True, color = 'green')"
   ]
  },
  {
   "cell_type": "code",
   "execution_count": null,
   "metadata": {},
   "outputs": [],
   "source": [
    "g = sns.FacetGrid(data, row=\"Weekends_alco\",\n",
    "                  height=1.7, aspect=5)\n",
    "g.map(sns.distplot, \"absences\", hist=True, rug=True, color = 'red')"
   ]
  },
  {
   "cell_type": "markdown",
   "metadata": {},
   "source": [
    "Violin plot (скрепичная диаграмма) - используется для визуализации распределения данных и их плотности вероятности. Скрипичный график – это сочетание диаграммы размаха и графика плотности, развернутых и расположенных по обе стороны для отображения формы распределения данных"
   ]
  },
  {
   "cell_type": "code",
   "execution_count": null,
   "metadata": {},
   "outputs": [],
   "source": [
    "plt.figure(figsize=(15,7))\n",
    "sns.violinplot(x=\"Weekends_alco\", y=\"G3\", data=data, palette = 'rainbow')"
   ]
  },
  {
   "cell_type": "code",
   "execution_count": null,
   "metadata": {},
   "outputs": [],
   "source": [
    "plt.figure(figsize=(15,7))\n",
    "sns.violinplot(x=\"Weekends_alco\", y=\"absences\", data=data, palette = 'magma')"
   ]
  },
  {
   "cell_type": "code",
   "execution_count": null,
   "metadata": {},
   "outputs": [],
   "source": [
    "data.groupby(['Week_alco'])['G3','absences'].quantile([.25,.50,.75,.95])"
   ]
  },
  {
   "cell_type": "code",
   "execution_count": null,
   "metadata": {},
   "outputs": [],
   "source": [
    "data[(data['Week_alco'] == 'high')]"
   ]
  },
  {
   "cell_type": "code",
   "execution_count": null,
   "metadata": {},
   "outputs": [],
   "source": [
    "always_alco = data[(data['Week_alco'] == 'high') & (data['Weekends_alco'] == 'high')]\n",
    "never_alco = data[(data['Week_alco'] == 'low') & (data['Weekends_alco'] == 'low')]"
   ]
  },
  {
   "cell_type": "code",
   "execution_count": null,
   "metadata": {},
   "outputs": [],
   "source": [
    "f= plt.figure(figsize=(18,7))\n",
    "\n",
    "ax=f.add_subplot(121)\n",
    "sns.distplot(always_alco['G3'],color = 'pink',ax=ax)\n",
    "ax.set_title(' G3 always alco')\n",
    "\n",
    "ax=f.add_subplot(122)\n",
    "sns.distplot(never_alco['G3'],color='gray',ax=ax)\n",
    "ax.set_title('G3 never alco')"
   ]
  },
  {
   "cell_type": "code",
   "execution_count": null,
   "metadata": {},
   "outputs": [],
   "source": [
    "sns.catplot(x = 'romantic', kind=\"count\",palette=\"brg\", data=data, height = 6)\n",
    "plt.title(\"romantic status\")"
   ]
  },
  {
   "cell_type": "code",
   "execution_count": null,
   "metadata": {},
   "outputs": [],
   "source": [
    "data.groupby(['school','romantic'])['G3'].agg({'mean','count'})"
   ]
  },
  {
   "cell_type": "code",
   "execution_count": null,
   "metadata": {},
   "outputs": [],
   "source": [
    "plt.figure(figsize=(15,7))\n",
    "sns.boxplot(x=\"romantic\", y=\"G3\", data=data, palette = 'magma')"
   ]
  },
  {
   "cell_type": "code",
   "execution_count": null,
   "metadata": {},
   "outputs": [],
   "source": [
    "data.groupby('romantic')['G3','absences'].quantile([.50,.95])"
   ]
  },
  {
   "cell_type": "code",
   "execution_count": null,
   "metadata": {},
   "outputs": [],
   "source": [
    "labels = data[\"health\"].unique().tolist()\n",
    "amount = data[\"health\"].value_counts().tolist()\n",
    "\n",
    "colors = [\"coral\",\"lightgreen\",\"pink\",\"cyan\",\"white\"]\n",
    "\n",
    "trace = go.Pie(labels=labels, values=amount,\n",
    "               hoverinfo='label+percent', textinfo='value', \n",
    "               textfont=dict(size=20),\n",
    "               marker=dict(colors=colors, \n",
    "                           line=dict(color='#000000', width=2)))\n",
    "\n",
    "dt = [trace]\n",
    "layout = go.Layout(title=\"Current health status (numeric: from 1 - very bad to 5 - very good)\")\n",
    "\n",
    "fig = go.Figure(data=dt, layout=layout)\n",
    "iplot(fig, filename = 'h_chart')"
   ]
  },
  {
   "cell_type": "code",
   "execution_count": null,
   "metadata": {},
   "outputs": [],
   "source": []
  }
 ],
 "metadata": {
  "kernelspec": {
   "display_name": "Python 3",
   "language": "python",
   "name": "python3"
  },
  "language_info": {
   "codemirror_mode": {
    "name": "ipython",
    "version": 3
   },
   "file_extension": ".py",
   "mimetype": "text/x-python",
   "name": "python",
   "nbconvert_exporter": "python",
   "pygments_lexer": "ipython3",
   "version": "3.7.6"
  }
 },
 "nbformat": 4,
 "nbformat_minor": 4
}
